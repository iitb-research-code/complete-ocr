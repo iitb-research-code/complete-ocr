{
 "cells": [
  {
   "cell_type": "code",
   "execution_count": 430,
   "id": "07183c35",
   "metadata": {},
   "outputs": [],
   "source": [
    "import layoutparser as lp\n",
    "import cv2\n",
    "from PIL import Image \n",
    "import pytesseract\n",
    "from bs4 import BeautifulSoup"
   ]
  },
  {
   "cell_type": "code",
   "execution_count": 2,
   "id": "4cbf1a65",
   "metadata": {},
   "outputs": [
    {
     "name": "stderr",
     "output_type": "stream",
     "text": [
      "The checkpoint state_dict contains keys that are not used by the model:\n",
      "  \u001b[35mproposal_generator.anchor_generator.cell_anchors.{0, 1, 2, 3, 4}\u001b[0m\n"
     ]
    }
   ],
   "source": [
    "# Basic LP\n",
    "model_config = 'lp://PubLayNet/faster_rcnn_R_50_FPN_3x/config'\n",
    "extra_config = \"MODEL.ROI_HEADS.SCORE_THRESH_TEST\"\n",
    "label_map = {0: \"Text\", 1: \"Title\", 2: \"List\", 3: \"Table\", 4: \"Figure\"}\n",
    "model = lp.Detectron2LayoutModel(model_config, extra_config=[extra_config, 0.8], label_map=label_map)"
   ]
  },
  {
   "cell_type": "code",
   "execution_count": 21,
   "id": "50227492",
   "metadata": {},
   "outputs": [
    {
     "name": "stderr",
     "output_type": "stream",
     "text": [
      "config.yml?dl=1: 8.19kB [00:02, 2.79kB/s]\n",
      "model_final.pth?dl=1: 330MB [01:03, 5.18MB/s]                                                                                                                                                              \n",
      "The checkpoint state_dict contains keys that are not used by the model:\n",
      "  \u001b[35mproposal_generator.anchor_generator.cell_anchors.{0, 1, 2, 3, 4}\u001b[0m\n"
     ]
    }
   ],
   "source": [
    "\n",
    "model_config = 'lp://HJDataset/faster_rcnn_R_50_FPN_3x/config'\n",
    "extra_config = \"MODEL.ROI_HEADS.SCORE_THRESH_TEST\"\n",
    "label_map = {1:\"Page Frame\", 2:\"Row\", 3:\"Title Region\", 4:\"Text Region\", 5:\"Title\", 6:\"Subtitle\", 7:\"Other\"}\n",
    "model = lp.Detectron2LayoutModel(model_config, extra_config=[extra_config, 0.8], label_map=label_map)"
   ]
  },
  {
   "cell_type": "code",
   "execution_count": 56,
   "id": "0b17589f",
   "metadata": {},
   "outputs": [
    {
     "name": "stderr",
     "output_type": "stream",
     "text": [
      "The checkpoint state_dict contains keys that are not used by the model:\n",
      "  \u001b[35mpixel_mean\u001b[0m\n",
      "  \u001b[35mpixel_std\u001b[0m\n",
      "  \u001b[35mproposal_generator.anchor_generator.cell_anchors.{0, 1, 2, 3, 4}\u001b[0m\n"
     ]
    }
   ],
   "source": [
    "# Prima Layout\n",
    "model_config = 'lp://PrimaLayout/mask_rcnn_R_50_FPN_3x/config'\n",
    "extra_config = \"MODEL.ROI_HEADS.SCORE_THRESH_TEST\"\n",
    "label_map = {1:\"TextRegion\", 2:\"ImageRegion\", 3:\"TableRegion\", 4:\"MathsRegion\", 5:\"SeparatorRegion\", 6:\"OtherRegion\"}\n",
    "model = lp.Detectron2LayoutModel(model_config, extra_config=[extra_config, 0.8], label_map=label_map)"
   ]
  },
  {
   "cell_type": "code",
   "execution_count": null,
   "id": "bc90f099",
   "metadata": {},
   "outputs": [],
   "source": []
  },
  {
   "cell_type": "code",
   "execution_count": 57,
   "id": "9259d8e5",
   "metadata": {},
   "outputs": [],
   "source": [
    "image = cv2.imread(\"images/p-07.jpg\")"
   ]
  },
  {
   "cell_type": "code",
   "execution_count": 58,
   "id": "5e6641c7",
   "metadata": {},
   "outputs": [],
   "source": [
    "layout = model.detect(image)"
   ]
  },
  {
   "cell_type": "code",
   "execution_count": 59,
   "id": "b45e1e9c",
   "metadata": {},
   "outputs": [
    {
     "data": {
      "text/plain": [
       "Layout(_blocks=[TextBlock(block=Rectangle(x_1=794.5726928710938, y_1=3042.744140625, x_2=926.1603393554688, y_2=3084.89013671875), text=None, id=None, type=TextRegion, parent=None, next=None, score=0.999948263168335), TextBlock(block=Rectangle(x_1=517.1845092773438, y_1=3041.4267578125, x_2=676.8280639648438, y_2=3088.6689453125), text=None, id=None, type=TextRegion, parent=None, next=None, score=0.999893307685852), TextBlock(block=Rectangle(x_1=286.0674133300781, y_1=303.471435546875, x_2=2007.3709716796875, y_2=509.6767578125), text=None, id=None, type=TextRegion, parent=None, next=None, score=0.9963249564170837), TextBlock(block=Rectangle(x_1=522.8360595703125, y_1=1099.22021484375, x_2=733.0508422851562, y_2=1155.155029296875), text=None, id=None, type=TextRegion, parent=None, next=None, score=0.9957743287086487), TextBlock(block=Rectangle(x_1=1436.3953857421875, y_1=816.5255126953125, x_2=1797.8111572265625, y_2=888.7061157226562), text=None, id=None, type=TextRegion, parent=None, next=None, score=0.9919734001159668), TextBlock(block=Rectangle(x_1=361.4033508300781, y_1=389.04901123046875, x_2=1857.3721923828125, y_2=505.44610595703125), text=None, id=None, type=TextRegion, parent=None, next=None, score=0.9886826872825623), TextBlock(block=Rectangle(x_1=133.5701446533203, y_1=236.2518310546875, x_2=159.61720275878906, y_2=262.3274230957031), text=None, id=None, type=TextRegion, parent=None, next=None, score=0.9874607920646667), TextBlock(block=Rectangle(x_1=1042.1705322265625, y_1=3038.554443359375, x_2=1315.7843017578125, y_2=3091.28173828125), text=None, id=None, type=TextRegion, parent=None, next=None, score=0.9864872097969055), TextBlock(block=Rectangle(x_1=445.37786865234375, y_1=588.4599609375, x_2=2150.172607421875, y_2=876.824951171875), text=None, id=None, type=TextRegion, parent=None, next=None, score=0.9862815737724304), TextBlock(block=Rectangle(x_1=516.7167358398438, y_1=2288.412353515625, x_2=2130.2255859375, y_2=3002.64453125), text=None, id=None, type=TextRegion, parent=None, next=None, score=0.9859614372253418), TextBlock(block=Rectangle(x_1=506.6513977050781, y_1=2931.3720703125, x_2=700.1453247070312, y_2=2990.41064453125), text=None, id=None, type=TextRegion, parent=None, next=None, score=0.981313943862915), TextBlock(block=Rectangle(x_1=373.6744079589844, y_1=1268.46826171875, x_2=2104.571044921875, y_2=1930.9964599609375), text=None, id=None, type=TextRegion, parent=None, next=None, score=0.9730811715126038), TextBlock(block=Rectangle(x_1=388.9244384765625, y_1=1879.3719482421875, x_2=2110.713134765625, y_2=1995.5126953125), text=None, id=None, type=TextRegion, parent=None, next=None, score=0.9421733021736145), TextBlock(block=Rectangle(x_1=1990.228515625, y_1=1102.8238525390625, x_2=2168.81787109375, y_2=1148.0318603515625), text=None, id=None, type=TextRegion, parent=None, next=None, score=0.864543080329895), TextBlock(block=Rectangle(x_1=397.2560729980469, y_1=783.289794921875, x_2=1035.377685546875, y_2=972.1146850585938), text=None, id=None, type=TextRegion, parent=None, next=None, score=0.8370646834373474), TextBlock(block=Rectangle(x_1=1192.9820556640625, y_1=823.5965576171875, x_2=1305.8809814453125, y_2=866.4072265625), text=None, id=None, type=TextRegion, parent=None, next=None, score=0.813467264175415)], page_data={})"
      ]
     },
     "execution_count": 59,
     "metadata": {},
     "output_type": "execute_result"
    }
   ],
   "source": [
    "layout"
   ]
  },
  {
   "cell_type": "code",
   "execution_count": 60,
   "id": "72658372",
   "metadata": {},
   "outputs": [],
   "source": [
    "#textual_blocks = lp.Layout([b for b in layout if b.type=='Text' or b.type == 'Title'])"
   ]
  },
  {
   "cell_type": "code",
   "execution_count": 61,
   "id": "aef33c4d",
   "metadata": {},
   "outputs": [],
   "source": [
    "img = lp.draw_box(image, layout,  box_width=10, box_alpha=0.5, show_element_type=True)"
   ]
  },
  {
   "cell_type": "code",
   "execution_count": 62,
   "id": "e437c5c6",
   "metadata": {},
   "outputs": [],
   "source": [
    "img.save('prima_layout3.jpg')"
   ]
  },
  {
   "cell_type": "code",
   "execution_count": 63,
   "id": "3939186f",
   "metadata": {},
   "outputs": [],
   "source": [
    "# Load image, grayscale, Gaussian blur, Otsu's threshold\n",
    "image = cv2.imread('images/p-07.jpg')\n",
    "gray = cv2.cvtColor(image, cv2.COLOR_BGR2GRAY)\n",
    "blur = cv2.GaussianBlur(gray, (7,7), 0)\n",
    "thresh = cv2.threshold(blur, 0, 255, cv2.THRESH_BINARY_INV + cv2.THRESH_OTSU)[1]\n",
    "\n",
    "# Create rectangular structuring element and dilate\n",
    "kernel = cv2.getStructuringElement(cv2.MORPH_RECT, (7,7))\n",
    "dilate = cv2.dilate(thresh, kernel, iterations=4)\n",
    "\n",
    "# Find contours and draw rectangle\n",
    "cnts = cv2.findContours(dilate, cv2.RETR_EXTERNAL, cv2.CHAIN_APPROX_SIMPLE)\n",
    "cnts = cnts[0] if len(cnts) == 2 else cnts[1]\n",
    "for c in cnts:\n",
    "    x,y,w,h = cv2.boundingRect(c)\n",
    "    cv2.rectangle(image, (x, y), (x + w, y + h), (36,255,12), 2)\n",
    "\n",
    "# cv2.imshow('thresh', thresh)\n",
    "# cv2.imshow('dilate', dilate)\n",
    "# cv2.imshow('image', image)\n",
    "# cv2.waitKey()"
   ]
  },
  {
   "cell_type": "code",
   "execution_count": 64,
   "id": "24f9eebe",
   "metadata": {},
   "outputs": [
    {
     "data": {
      "text/plain": [
       "True"
      ]
     },
     "execution_count": 64,
     "metadata": {},
     "output_type": "execute_result"
    }
   ],
   "source": [
    "cv2.imwrite('cv.jpg', image)"
   ]
  },
  {
   "cell_type": "code",
   "execution_count": 65,
   "id": "3b43dce7",
   "metadata": {},
   "outputs": [
    {
     "name": "stderr",
     "output_type": "stream",
     "text": [
      "2023-06-11 15:50:43.031943: I tensorflow/core/platform/cpu_feature_guard.cc:193] This TensorFlow binary is optimized with oneAPI Deep Neural Network Library (oneDNN) to use the following CPU instructions in performance-critical operations:  AVX2 AVX_VNNI FMA\n",
      "To enable them in other operations, rebuild TensorFlow with the appropriate compiler flags.\n",
      "2023-06-11 15:50:43.213751: I tensorflow/core/util/port.cc:104] oneDNN custom operations are on. You may see slightly different numerical results due to floating-point round-off errors from different computation orders. To turn them off, set the environment variable `TF_ENABLE_ONEDNN_OPTS=0`.\n",
      "/home/dhruv/.local/lib/python3.8/site-packages/tensorflow/python/framework/dtypes.py:246: DeprecationWarning: `np.bool8` is a deprecated alias for `np.bool_`.  (Deprecated NumPy 1.24)\n",
      "  np.bool8: (False, True),\n",
      "2023-06-11 15:50:43.917962: W tensorflow/compiler/xla/stream_executor/platform/default/dso_loader.cc:64] Could not load dynamic library 'libnvinfer.so.7'; dlerror: libnvinfer.so.7: cannot open shared object file: No such file or directory; LD_LIBRARY_PATH: /home/dhruv/.local/lib/python3.8/site-packages/cv2/../../lib64:\n",
      "2023-06-11 15:50:43.918008: W tensorflow/compiler/xla/stream_executor/platform/default/dso_loader.cc:64] Could not load dynamic library 'libnvinfer_plugin.so.7'; dlerror: libnvinfer_plugin.so.7: cannot open shared object file: No such file or directory; LD_LIBRARY_PATH: /home/dhruv/.local/lib/python3.8/site-packages/cv2/../../lib64:\n",
      "2023-06-11 15:50:43.918012: W tensorflow/compiler/tf2tensorrt/utils/py_utils.cc:38] TF-TRT Warning: Cannot dlopen some TensorRT libraries. If you would like to use Nvidia GPU with TensorRT, please make sure the missing libraries mentioned above are installed properly.\n",
      "/home/dhruv/.local/lib/python3.8/site-packages/defusedxml/__init__.py:30: DeprecationWarning: defusedxml.cElementTree is deprecated, import from defusedxml.ElementTree instead.\n",
      "  from . import cElementTree\n",
      "/home/dhruv/.local/lib/python3.8/site-packages/traitlets/traitlets.py:1016: DeprecationWarning: Widget._active_widgets is deprecated.\n",
      "  value = getattr(cls, name)\n",
      "/home/dhruv/.local/lib/python3.8/site-packages/traitlets/traitlets.py:1016: DeprecationWarning: Widget._widget_types is deprecated.\n",
      "  value = getattr(cls, name)\n",
      "/home/dhruv/.local/lib/python3.8/site-packages/traitlets/traitlets.py:1016: DeprecationWarning: Widget.widget_types is deprecated.\n",
      "  value = getattr(cls, name)\n",
      "/home/dhruv/.local/lib/python3.8/site-packages/traitlets/traitlets.py:1016: DeprecationWarning: Widget.widgets is deprecated.\n",
      "  value = getattr(cls, name)\n",
      "/home/dhruv/.local/lib/python3.8/site-packages/tensorflow_addons/utils/tfa_eol_msg.py:23: UserWarning: \n",
      "\n",
      "TensorFlow Addons (TFA) has ended development and introduction of new features.\n",
      "TFA has entered a minimal maintenance and release mode until a planned end of life in May 2024.\n",
      "Please modify downstream libraries to take dependencies from other repositories in our TensorFlow community (e.g. Keras, Keras-CV, and Keras-NLP). \n",
      "\n",
      "For more information see: https://github.com/tensorflow/addons/issues/2807 \n",
      "\n",
      "  warnings.warn(\n"
     ]
    }
   ],
   "source": [
    "from doctr.io import DocumentFile\n",
    "from doctr.models import ocr_predictor"
   ]
  },
  {
   "cell_type": "code",
   "execution_count": 587,
   "id": "7ae35466",
   "metadata": {},
   "outputs": [],
   "source": [
    "model = ocr_predictor(pretrained=True)\n",
    "# PDF\n",
    "imgfile = 'images/p-10.jpg'\n",
    "doc = DocumentFile.from_images(imgfile)\n",
    "# Analyze\n",
    "result = model(doc)"
   ]
  },
  {
   "cell_type": "code",
   "execution_count": 588,
   "id": "79c981bb",
   "metadata": {},
   "outputs": [],
   "source": [
    "#result.show(doc)"
   ]
  },
  {
   "cell_type": "code",
   "execution_count": 589,
   "id": "3d4a6460",
   "metadata": {},
   "outputs": [],
   "source": [
    "# result"
   ]
  },
  {
   "cell_type": "code",
   "execution_count": 590,
   "id": "ecc45a45",
   "metadata": {},
   "outputs": [],
   "source": [
    "jsonresult = result.export()"
   ]
  },
  {
   "cell_type": "code",
   "execution_count": 591,
   "id": "0e0a5b20",
   "metadata": {},
   "outputs": [],
   "source": [
    "height, width = jsonresult['pages'][0]['dimensions']"
   ]
  },
  {
   "cell_type": "code",
   "execution_count": 592,
   "id": "79c186ec",
   "metadata": {},
   "outputs": [],
   "source": [
    "blockbboxes = []\n",
    "for block in jsonresult['pages'][0]['blocks']:\n",
    "    ((x1,y1),(x2,y2)) = block['geometry']\n",
    "    x1 = int(x1 * width)\n",
    "    x2 = int(x2 * width)\n",
    "    y1 = int(y1 * height)\n",
    "    y2 = int(y2 * height)\n",
    "    bbox = ((x1,y1),(x2,y2))\n",
    "    blockbboxes.append(bbox)"
   ]
  },
  {
   "cell_type": "code",
   "execution_count": 593,
   "id": "533adff7",
   "metadata": {},
   "outputs": [],
   "source": [
    "#blockbboxes"
   ]
  },
  {
   "cell_type": "code",
   "execution_count": 594,
   "id": "1b027fcf",
   "metadata": {},
   "outputs": [],
   "source": [
    "img = cv2.imread(imgfile)"
   ]
  },
  {
   "cell_type": "code",
   "execution_count": 595,
   "id": "ff9eb314",
   "metadata": {},
   "outputs": [],
   "source": [
    "for b in blockbboxes:\n",
    "    cv2.rectangle(img, b[0], b[1], (255, 255, 25), 20)"
   ]
  },
  {
   "cell_type": "code",
   "execution_count": 596,
   "id": "fbb88cac",
   "metadata": {},
   "outputs": [
    {
     "data": {
      "text/plain": [
       "True"
      ]
     },
     "execution_count": 596,
     "metadata": {},
     "output_type": "execute_result"
    }
   ],
   "source": [
    "cv2.imwrite(imgfile[:-4] + '_block_level.jpg', img)"
   ]
  },
  {
   "cell_type": "code",
   "execution_count": 597,
   "id": "b45ff101",
   "metadata": {},
   "outputs": [],
   "source": [
    "## Line Level"
   ]
  },
  {
   "cell_type": "code",
   "execution_count": 598,
   "id": "53d58519",
   "metadata": {},
   "outputs": [],
   "source": [
    "linebboxes = []\n",
    "for block in jsonresult['pages'][0]['blocks']:\n",
    "    for lines in block['lines']:\n",
    "        ((x1,y1),(x2,y2)) = lines['geometry']\n",
    "        x1 = int(x1 * width)\n",
    "        x2 = int(x2 * width)\n",
    "        y1 = int(y1 * height)\n",
    "        y2 = int(y2 * height)\n",
    "        bbox = ((x1,y1),(x2,y2))\n",
    "        linebboxes.append(bbox)"
   ]
  },
  {
   "cell_type": "code",
   "execution_count": 599,
   "id": "8c98b71a",
   "metadata": {},
   "outputs": [],
   "source": [
    "for b in linebboxes:\n",
    "    cv2.rectangle(img, b[0], b[1], (25, 25, 255), -1)"
   ]
  },
  {
   "cell_type": "code",
   "execution_count": 600,
   "id": "aae9bd2a",
   "metadata": {},
   "outputs": [
    {
     "data": {
      "text/plain": [
       "True"
      ]
     },
     "execution_count": 600,
     "metadata": {},
     "output_type": "execute_result"
    }
   ],
   "source": [
    "cv2.imwrite(imgfile[:-4] + '_line_level.jpg', img)"
   ]
  },
  {
   "cell_type": "code",
   "execution_count": 601,
   "id": "5464f565",
   "metadata": {},
   "outputs": [],
   "source": [
    "img = cv2.imread(imgfile)"
   ]
  },
  {
   "cell_type": "code",
   "execution_count": 602,
   "id": "4aa87cbd",
   "metadata": {},
   "outputs": [],
   "source": [
    "final_text = ''"
   ]
  },
  {
   "cell_type": "code",
   "execution_count": 603,
   "id": "98235053",
   "metadata": {},
   "outputs": [],
   "source": [
    "img = cv2.imread(imgfile)"
   ]
  },
  {
   "cell_type": "code",
   "execution_count": 604,
   "id": "de62634e",
   "metadata": {
    "scrolled": true
   },
   "outputs": [],
   "source": [
    "for bb in blockbboxes:\n",
    "    cropped_image = img[bb[0][1]:bb[1][1], bb[0][0]:bb[1][0]]\n",
    "    text = pytesseract.image_to_string(cropped_image, lang='Tamil')\n",
    "    final_text = final_text + ' ' + text"
   ]
  },
  {
   "cell_type": "code",
   "execution_count": 605,
   "id": "5602c3e0",
   "metadata": {},
   "outputs": [
    {
     "name": "stdout",
     "output_type": "stream",
     "text": [
      "  FRUGOBSLSOSTN\n",
      "Counter Wo: 2, 28/08/2021, 12:47\n",
      "\n",
      "___—.\n",
      "\n",
      "Aat:25.00 Cash Ut 120025\n",
      "\n",
      "1\n",
      "EE\n",
      "Fros: TRADNRWFATTU 0 <&06707>\n",
      "Frexx Hib | =EEa To\n",
      "To: Hub’ |\n",
      "Ll F0:Sarhiipi Hauer HCLIOOZD)\n",
      "SN a\n",
      "\f",
      "\n"
     ]
    }
   ],
   "source": [
    "print(final_text)"
   ]
  }
 ],
 "metadata": {
  "kernelspec": {
   "display_name": "Python 3 (ipykernel)",
   "language": "python",
   "name": "python3"
  },
  "language_info": {
   "codemirror_mode": {
    "name": "ipython",
    "version": 3
   },
   "file_extension": ".py",
   "mimetype": "text/x-python",
   "name": "python",
   "nbconvert_exporter": "python",
   "pygments_lexer": "ipython3",
   "version": "3.9.7"
  }
 },
 "nbformat": 4,
 "nbformat_minor": 5
}
